{
 "cells": [
  {
   "cell_type": "markdown",
   "metadata": {},
   "source": [
    "# Practical Application III: Comparing Classifiers\n",
    "\n",
    "**Overview**: In this practical application, your goal is to compare the performance of the classifiers we encountered in this section, namely K Nearest Neighbor, Logistic Regression, Decision Trees, and Support Vector Machines.  We will utilize a dataset related to marketing bank products over the telephone.  \n",
    "\n"
   ]
  },
  {
   "cell_type": "markdown",
   "metadata": {},
   "source": [
    "### Getting Started\n",
    "\n",
    "Our dataset comes from the UCI Machine Learning repository [link](https://archive.ics.uci.edu/ml/datasets/bank+marketing).  The data is from a Portugese banking institution and is a collection of the results of multiple marketing campaigns.  We will make use of the article accompanying the dataset [here](CRISP-DM-BANK.pdf) for more information on the data and features.\n",
    "\n"
   ]
  },
  {
   "cell_type": "markdown",
   "metadata": {},
   "source": [
    "### Problem 1: Understanding the Data\n",
    "\n",
    "To gain a better understanding of the data, please read the information provided in the UCI link above, and examine the **Materials and Methods** section of the paper.  How many marketing campaigns does this data represent?"
   ]
  },
  {
   "cell_type": "code",
   "metadata": {
    "ExecuteTime": {
     "end_time": "2025-09-27T05:56:41.883780Z",
     "start_time": "2025-09-27T05:56:41.880832Z"
    }
   },
   "source": [],
   "outputs": [],
   "execution_count": null
  },
  {
   "cell_type": "markdown",
   "metadata": {},
   "source": [
    "### Problem 2: Read in the Data\n",
    "\n",
    "Use pandas to read in the dataset `bank-additional-full.csv` and assign to a meaningful variable name."
   ]
  },
  {
   "cell_type": "code",
   "metadata": {
    "ExecuteTime": {
     "end_time": "2025-09-27T05:56:41.901335Z",
     "start_time": "2025-09-27T05:56:41.899895Z"
    }
   },
   "source": [
    "import pandas as pd\n",
    "import numpy as np"
   ],
   "outputs": [],
   "execution_count": 205
  },
  {
   "cell_type": "code",
   "metadata": {
    "ExecuteTime": {
     "end_time": "2025-09-27T05:56:41.957349Z",
     "start_time": "2025-09-27T05:56:41.914315Z"
    }
   },
   "source": [
    "df = pd.read_csv('data/bank-additional/bank-additional-full.csv', sep = ';')"
   ],
   "outputs": [],
   "execution_count": 206
  },
  {
   "cell_type": "code",
   "metadata": {
    "ExecuteTime": {
     "end_time": "2025-09-27T05:56:41.977828Z",
     "start_time": "2025-09-27T05:56:41.970728Z"
    }
   },
   "source": [
    "df.head()"
   ],
   "outputs": [
    {
     "data": {
      "text/plain": [
       "   age        job  marital    education  default housing loan    contact  \\\n",
       "0   56  housemaid  married     basic.4y       no      no   no  telephone   \n",
       "1   57   services  married  high.school  unknown      no   no  telephone   \n",
       "2   37   services  married  high.school       no     yes   no  telephone   \n",
       "3   40     admin.  married     basic.6y       no      no   no  telephone   \n",
       "4   56   services  married  high.school       no      no  yes  telephone   \n",
       "\n",
       "  month day_of_week  ...  campaign  pdays  previous     poutcome emp.var.rate  \\\n",
       "0   may         mon  ...         1    999         0  nonexistent          1.1   \n",
       "1   may         mon  ...         1    999         0  nonexistent          1.1   \n",
       "2   may         mon  ...         1    999         0  nonexistent          1.1   \n",
       "3   may         mon  ...         1    999         0  nonexistent          1.1   \n",
       "4   may         mon  ...         1    999         0  nonexistent          1.1   \n",
       "\n",
       "   cons.price.idx  cons.conf.idx  euribor3m  nr.employed   y  \n",
       "0          93.994          -36.4      4.857       5191.0  no  \n",
       "1          93.994          -36.4      4.857       5191.0  no  \n",
       "2          93.994          -36.4      4.857       5191.0  no  \n",
       "3          93.994          -36.4      4.857       5191.0  no  \n",
       "4          93.994          -36.4      4.857       5191.0  no  \n",
       "\n",
       "[5 rows x 21 columns]"
      ],
      "text/html": [
       "<div>\n",
       "<style scoped>\n",
       "    .dataframe tbody tr th:only-of-type {\n",
       "        vertical-align: middle;\n",
       "    }\n",
       "\n",
       "    .dataframe tbody tr th {\n",
       "        vertical-align: top;\n",
       "    }\n",
       "\n",
       "    .dataframe thead th {\n",
       "        text-align: right;\n",
       "    }\n",
       "</style>\n",
       "<table border=\"1\" class=\"dataframe\">\n",
       "  <thead>\n",
       "    <tr style=\"text-align: right;\">\n",
       "      <th></th>\n",
       "      <th>age</th>\n",
       "      <th>job</th>\n",
       "      <th>marital</th>\n",
       "      <th>education</th>\n",
       "      <th>default</th>\n",
       "      <th>housing</th>\n",
       "      <th>loan</th>\n",
       "      <th>contact</th>\n",
       "      <th>month</th>\n",
       "      <th>day_of_week</th>\n",
       "      <th>...</th>\n",
       "      <th>campaign</th>\n",
       "      <th>pdays</th>\n",
       "      <th>previous</th>\n",
       "      <th>poutcome</th>\n",
       "      <th>emp.var.rate</th>\n",
       "      <th>cons.price.idx</th>\n",
       "      <th>cons.conf.idx</th>\n",
       "      <th>euribor3m</th>\n",
       "      <th>nr.employed</th>\n",
       "      <th>y</th>\n",
       "    </tr>\n",
       "  </thead>\n",
       "  <tbody>\n",
       "    <tr>\n",
       "      <th>0</th>\n",
       "      <td>56</td>\n",
       "      <td>housemaid</td>\n",
       "      <td>married</td>\n",
       "      <td>basic.4y</td>\n",
       "      <td>no</td>\n",
       "      <td>no</td>\n",
       "      <td>no</td>\n",
       "      <td>telephone</td>\n",
       "      <td>may</td>\n",
       "      <td>mon</td>\n",
       "      <td>...</td>\n",
       "      <td>1</td>\n",
       "      <td>999</td>\n",
       "      <td>0</td>\n",
       "      <td>nonexistent</td>\n",
       "      <td>1.1</td>\n",
       "      <td>93.994</td>\n",
       "      <td>-36.4</td>\n",
       "      <td>4.857</td>\n",
       "      <td>5191.0</td>\n",
       "      <td>no</td>\n",
       "    </tr>\n",
       "    <tr>\n",
       "      <th>1</th>\n",
       "      <td>57</td>\n",
       "      <td>services</td>\n",
       "      <td>married</td>\n",
       "      <td>high.school</td>\n",
       "      <td>unknown</td>\n",
       "      <td>no</td>\n",
       "      <td>no</td>\n",
       "      <td>telephone</td>\n",
       "      <td>may</td>\n",
       "      <td>mon</td>\n",
       "      <td>...</td>\n",
       "      <td>1</td>\n",
       "      <td>999</td>\n",
       "      <td>0</td>\n",
       "      <td>nonexistent</td>\n",
       "      <td>1.1</td>\n",
       "      <td>93.994</td>\n",
       "      <td>-36.4</td>\n",
       "      <td>4.857</td>\n",
       "      <td>5191.0</td>\n",
       "      <td>no</td>\n",
       "    </tr>\n",
       "    <tr>\n",
       "      <th>2</th>\n",
       "      <td>37</td>\n",
       "      <td>services</td>\n",
       "      <td>married</td>\n",
       "      <td>high.school</td>\n",
       "      <td>no</td>\n",
       "      <td>yes</td>\n",
       "      <td>no</td>\n",
       "      <td>telephone</td>\n",
       "      <td>may</td>\n",
       "      <td>mon</td>\n",
       "      <td>...</td>\n",
       "      <td>1</td>\n",
       "      <td>999</td>\n",
       "      <td>0</td>\n",
       "      <td>nonexistent</td>\n",
       "      <td>1.1</td>\n",
       "      <td>93.994</td>\n",
       "      <td>-36.4</td>\n",
       "      <td>4.857</td>\n",
       "      <td>5191.0</td>\n",
       "      <td>no</td>\n",
       "    </tr>\n",
       "    <tr>\n",
       "      <th>3</th>\n",
       "      <td>40</td>\n",
       "      <td>admin.</td>\n",
       "      <td>married</td>\n",
       "      <td>basic.6y</td>\n",
       "      <td>no</td>\n",
       "      <td>no</td>\n",
       "      <td>no</td>\n",
       "      <td>telephone</td>\n",
       "      <td>may</td>\n",
       "      <td>mon</td>\n",
       "      <td>...</td>\n",
       "      <td>1</td>\n",
       "      <td>999</td>\n",
       "      <td>0</td>\n",
       "      <td>nonexistent</td>\n",
       "      <td>1.1</td>\n",
       "      <td>93.994</td>\n",
       "      <td>-36.4</td>\n",
       "      <td>4.857</td>\n",
       "      <td>5191.0</td>\n",
       "      <td>no</td>\n",
       "    </tr>\n",
       "    <tr>\n",
       "      <th>4</th>\n",
       "      <td>56</td>\n",
       "      <td>services</td>\n",
       "      <td>married</td>\n",
       "      <td>high.school</td>\n",
       "      <td>no</td>\n",
       "      <td>no</td>\n",
       "      <td>yes</td>\n",
       "      <td>telephone</td>\n",
       "      <td>may</td>\n",
       "      <td>mon</td>\n",
       "      <td>...</td>\n",
       "      <td>1</td>\n",
       "      <td>999</td>\n",
       "      <td>0</td>\n",
       "      <td>nonexistent</td>\n",
       "      <td>1.1</td>\n",
       "      <td>93.994</td>\n",
       "      <td>-36.4</td>\n",
       "      <td>4.857</td>\n",
       "      <td>5191.0</td>\n",
       "      <td>no</td>\n",
       "    </tr>\n",
       "  </tbody>\n",
       "</table>\n",
       "<p>5 rows × 21 columns</p>\n",
       "</div>"
      ]
     },
     "execution_count": 207,
     "metadata": {},
     "output_type": "execute_result"
    }
   ],
   "execution_count": 207
  },
  {
   "cell_type": "markdown",
   "metadata": {},
   "source": [
    "### Problem 3: Understanding the Features\n",
    "\n",
    "\n",
    "Examine the data description below, and determine if any of the features are missing values or need to be coerced to a different data type.\n",
    "\n",
    "\n",
    "```\n",
    "Input variables:\n",
    "# bank client data:\n",
    "1 - age (numeric)\n",
    "2 - job : type of job (categorical: 'admin.','blue-collar','entrepreneur','housemaid','management','retired','self-employed','services','student','technician','unemployed','unknown')\n",
    "3 - marital : marital status (categorical: 'divorced','married','single','unknown'; note: 'divorced' means divorced or widowed)\n",
    "4 - education (categorical: 'basic.4y','basic.6y','basic.9y','high.school','illiterate','professional.course','university.degree','unknown')\n",
    "5 - default: has credit in default? (categorical: 'no','yes','unknown')\n",
    "6 - housing: has housing loan? (categorical: 'no','yes','unknown')\n",
    "7 - loan: has personal loan? (categorical: 'no','yes','unknown')\n",
    "# related with the last contact of the current campaign:\n",
    "8 - contact: contact communication type (categorical: 'cellular','telephone')\n",
    "9 - month: last contact month of year (categorical: 'jan', 'feb', 'mar', ..., 'nov', 'dec')\n",
    "10 - day_of_week: last contact day of the week (categorical: 'mon','tue','wed','thu','fri')\n",
    "11 - duration: last contact duration, in seconds (numeric). Important note: this attribute highly affects the output target (e.g., if duration=0 then y='no'). Yet, the duration is not known before a call is performed. Also, after the end of the call y is obviously known. Thus, this input should only be included for benchmark purposes and should be discarded if the intention is to have a realistic predictive model.\n",
    "# other attributes:\n",
    "12 - campaign: number of contacts performed during this campaign and for this client (numeric, includes last contact)\n",
    "13 - pdays: number of days that passed by after the client was last contacted from a previous campaign (numeric; 999 means client was not previously contacted)\n",
    "14 - previous: number of contacts performed before this campaign and for this client (numeric)\n",
    "15 - poutcome: outcome of the previous marketing campaign (categorical: 'failure','nonexistent','success')\n",
    "# social and economic context attributes\n",
    "16 - emp.var.rate: employment variation rate - quarterly indicator (numeric)\n",
    "17 - cons.price.idx: consumer price index - monthly indicator (numeric)\n",
    "18 - cons.conf.idx: consumer confidence index - monthly indicator (numeric)\n",
    "19 - euribor3m: euribor 3 month rate - daily indicator (numeric)\n",
    "20 - nr.employed: number of employees - quarterly indicator (numeric)\n",
    "\n",
    "Output variable (desired target):\n",
    "21 - y - has the client subscribed a term deposit? (binary: 'yes','no')\n",
    "```\n",
    "\n"
   ]
  },
  {
   "metadata": {},
   "cell_type": "markdown",
   "source": [
    "#### 'unknown' values contain missing data.  We will need to address them as missing data.\n",
    "- job\n",
    "- marital\n",
    "- education\n",
    "- default\n",
    "- housing\n",
    "- loan"
   ]
  },
  {
   "metadata": {
    "ExecuteTime": {
     "end_time": "2025-09-27T05:56:42.022707Z",
     "start_time": "2025-09-27T05:56:42.009646Z"
    }
   },
   "cell_type": "code",
   "source": "df.info()",
   "outputs": [
    {
     "name": "stdout",
     "output_type": "stream",
     "text": [
      "<class 'pandas.core.frame.DataFrame'>\n",
      "RangeIndex: 41188 entries, 0 to 41187\n",
      "Data columns (total 21 columns):\n",
      " #   Column          Non-Null Count  Dtype  \n",
      "---  ------          --------------  -----  \n",
      " 0   age             41188 non-null  int64  \n",
      " 1   job             41188 non-null  object \n",
      " 2   marital         41188 non-null  object \n",
      " 3   education       41188 non-null  object \n",
      " 4   default         41188 non-null  object \n",
      " 5   housing         41188 non-null  object \n",
      " 6   loan            41188 non-null  object \n",
      " 7   contact         41188 non-null  object \n",
      " 8   month           41188 non-null  object \n",
      " 9   day_of_week     41188 non-null  object \n",
      " 10  duration        41188 non-null  int64  \n",
      " 11  campaign        41188 non-null  int64  \n",
      " 12  pdays           41188 non-null  int64  \n",
      " 13  previous        41188 non-null  int64  \n",
      " 14  poutcome        41188 non-null  object \n",
      " 15  emp.var.rate    41188 non-null  float64\n",
      " 16  cons.price.idx  41188 non-null  float64\n",
      " 17  cons.conf.idx   41188 non-null  float64\n",
      " 18  euribor3m       41188 non-null  float64\n",
      " 19  nr.employed     41188 non-null  float64\n",
      " 20  y               41188 non-null  object \n",
      "dtypes: float64(5), int64(5), object(11)\n",
      "memory usage: 6.6+ MB\n"
     ]
    }
   ],
   "execution_count": 208
  },
  {
   "metadata": {},
   "cell_type": "markdown",
   "source": [
    "#### 'object' data types will need to be coerced to categorical data types.\n",
    "- job\n",
    "- marital\n",
    "- education\n",
    "- default\n",
    "- housing\n",
    "- loan\n",
    "- contact\n",
    "- month\n",
    "- day_of_week\n",
    "- poutcome\n",
    "- y (target variable)"
   ]
  },
  {
   "metadata": {},
   "cell_type": "markdown",
   "source": [
    "#### 'y' column\n",
    "- to be renamed to 'target' for clarity.\n",
    "- to be converted to binary 0/1 values for modeling."
   ]
  },
  {
   "metadata": {},
   "cell_type": "markdown",
   "source": "#### 'pdays' column should be binary feature"
  },
  {
   "metadata": {
    "ExecuteTime": {
     "end_time": "2025-09-27T05:56:42.050814Z",
     "start_time": "2025-09-27T05:56:42.049315Z"
    }
   },
   "cell_type": "code",
   "source": "#### Data Cleaning",
   "outputs": [],
   "execution_count": 209
  },
  {
   "metadata": {
    "ExecuteTime": {
     "end_time": "2025-09-27T05:56:42.076318Z",
     "start_time": "2025-09-27T05:56:42.072766Z"
    }
   },
   "cell_type": "code",
   "source": [
    "# rename 'y' column to 'target'\n",
    "df = df.rename(columns={'y': 'target'})"
   ],
   "outputs": [],
   "execution_count": 210
  },
  {
   "metadata": {
    "ExecuteTime": {
     "end_time": "2025-09-27T05:56:42.100737Z",
     "start_time": "2025-09-27T05:56:42.096756Z"
    }
   },
   "cell_type": "code",
   "source": [
    "# convert 'target' column to binary 0/1 values\n",
    "df['target'] = df['target'].map({'yes': 1, 'no': 0})\n",
    "df.head()\n",
    "\n",
    "# get all unique values of target column\n",
    "df['target'].unique()"
   ],
   "outputs": [
    {
     "data": {
      "text/plain": [
       "array([0, 1])"
      ]
     },
     "execution_count": 211,
     "metadata": {},
     "output_type": "execute_result"
    }
   ],
   "execution_count": 211
  },
  {
   "metadata": {
    "ExecuteTime": {
     "end_time": "2025-09-27T05:56:42.128486Z",
     "start_time": "2025-09-27T05:56:42.119598Z"
    }
   },
   "cell_type": "code",
   "source": [
    "# convert 'pdays' column to binary feature\n",
    "df['pdays'] = df['pdays'].apply(lambda x: 0 if x == 999 else 1)\n",
    "\n",
    "# get all unique values of pdays column\n",
    "df['pdays'].unique()"
   ],
   "outputs": [
    {
     "data": {
      "text/plain": [
       "array([0, 1])"
      ]
     },
     "execution_count": 212,
     "metadata": {},
     "output_type": "execute_result"
    }
   ],
   "execution_count": 212
  },
  {
   "metadata": {
    "ExecuteTime": {
     "end_time": "2025-09-27T05:56:42.189373Z",
     "start_time": "2025-09-27T05:56:42.142144Z"
    }
   },
   "cell_type": "code",
   "source": [
    "# List of categorical columns to one-hot encode\n",
    "categorical_columns = ['job', 'marital', 'education', 'default', 'housing', 'loan', 'contact', 'month', 'day_of_week', 'poutcome']\n",
    "\n",
    "# Loop through the columns and apply one-hot encoding\n",
    "for col in categorical_columns:\n",
    "    dummies = pd.get_dummies(df[col], prefix=col)\n",
    "    df = pd.concat([df, dummies], axis=1)\n",
    "    df.drop(col, axis=1, inplace=True)\n"
   ],
   "outputs": [],
   "execution_count": 213
  },
  {
   "metadata": {
    "ExecuteTime": {
     "end_time": "2025-09-27T05:56:42.205871Z",
     "start_time": "2025-09-27T05:56:42.201135Z"
    }
   },
   "cell_type": "code",
   "source": "df.info()",
   "outputs": [
    {
     "name": "stdout",
     "output_type": "stream",
     "text": [
      "<class 'pandas.core.frame.DataFrame'>\n",
      "RangeIndex: 41188 entries, 0 to 41187\n",
      "Data columns (total 64 columns):\n",
      " #   Column                         Non-Null Count  Dtype  \n",
      "---  ------                         --------------  -----  \n",
      " 0   age                            41188 non-null  int64  \n",
      " 1   duration                       41188 non-null  int64  \n",
      " 2   campaign                       41188 non-null  int64  \n",
      " 3   pdays                          41188 non-null  int64  \n",
      " 4   previous                       41188 non-null  int64  \n",
      " 5   emp.var.rate                   41188 non-null  float64\n",
      " 6   cons.price.idx                 41188 non-null  float64\n",
      " 7   cons.conf.idx                  41188 non-null  float64\n",
      " 8   euribor3m                      41188 non-null  float64\n",
      " 9   nr.employed                    41188 non-null  float64\n",
      " 10  target                         41188 non-null  int64  \n",
      " 11  job_admin.                     41188 non-null  bool   \n",
      " 12  job_blue-collar                41188 non-null  bool   \n",
      " 13  job_entrepreneur               41188 non-null  bool   \n",
      " 14  job_housemaid                  41188 non-null  bool   \n",
      " 15  job_management                 41188 non-null  bool   \n",
      " 16  job_retired                    41188 non-null  bool   \n",
      " 17  job_self-employed              41188 non-null  bool   \n",
      " 18  job_services                   41188 non-null  bool   \n",
      " 19  job_student                    41188 non-null  bool   \n",
      " 20  job_technician                 41188 non-null  bool   \n",
      " 21  job_unemployed                 41188 non-null  bool   \n",
      " 22  job_unknown                    41188 non-null  bool   \n",
      " 23  marital_divorced               41188 non-null  bool   \n",
      " 24  marital_married                41188 non-null  bool   \n",
      " 25  marital_single                 41188 non-null  bool   \n",
      " 26  marital_unknown                41188 non-null  bool   \n",
      " 27  education_basic.4y             41188 non-null  bool   \n",
      " 28  education_basic.6y             41188 non-null  bool   \n",
      " 29  education_basic.9y             41188 non-null  bool   \n",
      " 30  education_high.school          41188 non-null  bool   \n",
      " 31  education_illiterate           41188 non-null  bool   \n",
      " 32  education_professional.course  41188 non-null  bool   \n",
      " 33  education_university.degree    41188 non-null  bool   \n",
      " 34  education_unknown              41188 non-null  bool   \n",
      " 35  default_no                     41188 non-null  bool   \n",
      " 36  default_unknown                41188 non-null  bool   \n",
      " 37  default_yes                    41188 non-null  bool   \n",
      " 38  housing_no                     41188 non-null  bool   \n",
      " 39  housing_unknown                41188 non-null  bool   \n",
      " 40  housing_yes                    41188 non-null  bool   \n",
      " 41  loan_no                        41188 non-null  bool   \n",
      " 42  loan_unknown                   41188 non-null  bool   \n",
      " 43  loan_yes                       41188 non-null  bool   \n",
      " 44  contact_cellular               41188 non-null  bool   \n",
      " 45  contact_telephone              41188 non-null  bool   \n",
      " 46  month_apr                      41188 non-null  bool   \n",
      " 47  month_aug                      41188 non-null  bool   \n",
      " 48  month_dec                      41188 non-null  bool   \n",
      " 49  month_jul                      41188 non-null  bool   \n",
      " 50  month_jun                      41188 non-null  bool   \n",
      " 51  month_mar                      41188 non-null  bool   \n",
      " 52  month_may                      41188 non-null  bool   \n",
      " 53  month_nov                      41188 non-null  bool   \n",
      " 54  month_oct                      41188 non-null  bool   \n",
      " 55  month_sep                      41188 non-null  bool   \n",
      " 56  day_of_week_fri                41188 non-null  bool   \n",
      " 57  day_of_week_mon                41188 non-null  bool   \n",
      " 58  day_of_week_thu                41188 non-null  bool   \n",
      " 59  day_of_week_tue                41188 non-null  bool   \n",
      " 60  day_of_week_wed                41188 non-null  bool   \n",
      " 61  poutcome_failure               41188 non-null  bool   \n",
      " 62  poutcome_nonexistent           41188 non-null  bool   \n",
      " 63  poutcome_success               41188 non-null  bool   \n",
      "dtypes: bool(53), float64(5), int64(6)\n",
      "memory usage: 5.5 MB\n"
     ]
    }
   ],
   "execution_count": 214
  },
  {
   "metadata": {
    "ExecuteTime": {
     "end_time": "2025-09-27T05:56:42.573761Z",
     "start_time": "2025-09-27T05:56:42.220167Z"
    }
   },
   "cell_type": "code",
   "source": [
    "# Save the cleaned data to a new CSV file\n",
    "df.to_csv('data/bank-additional/bank-additional-cleaned.csv', index=False)\n",
    "\n",
    "df = pd.read_csv('data/bank-additional/bank-additional-cleaned.csv')\n"
   ],
   "outputs": [],
   "execution_count": 215
  },
  {
   "metadata": {
    "ExecuteTime": {
     "end_time": "2025-09-27T05:56:42.589652Z",
     "start_time": "2025-09-27T05:56:42.588327Z"
    }
   },
   "cell_type": "code",
   "source": "",
   "outputs": [],
   "execution_count": null
  },
  {
   "cell_type": "markdown",
   "metadata": {},
   "source": [
    "### Problem 4: Understanding the Task\n",
    "\n",
    "After examining the description and data, your goal now is to clearly state the *Business Objective* of the task.  State the objective below."
   ]
  },
  {
   "cell_type": "code",
   "metadata": {
    "ExecuteTime": {
     "end_time": "2025-09-27T05:56:42.609278Z",
     "start_time": "2025-09-27T05:56:42.604249Z"
    }
   },
   "source": [
    "df.info()\n",
    "\n"
   ],
   "outputs": [
    {
     "name": "stdout",
     "output_type": "stream",
     "text": [
      "<class 'pandas.core.frame.DataFrame'>\n",
      "RangeIndex: 41188 entries, 0 to 41187\n",
      "Data columns (total 64 columns):\n",
      " #   Column                         Non-Null Count  Dtype  \n",
      "---  ------                         --------------  -----  \n",
      " 0   age                            41188 non-null  int64  \n",
      " 1   duration                       41188 non-null  int64  \n",
      " 2   campaign                       41188 non-null  int64  \n",
      " 3   pdays                          41188 non-null  int64  \n",
      " 4   previous                       41188 non-null  int64  \n",
      " 5   emp.var.rate                   41188 non-null  float64\n",
      " 6   cons.price.idx                 41188 non-null  float64\n",
      " 7   cons.conf.idx                  41188 non-null  float64\n",
      " 8   euribor3m                      41188 non-null  float64\n",
      " 9   nr.employed                    41188 non-null  float64\n",
      " 10  target                         41188 non-null  int64  \n",
      " 11  job_admin.                     41188 non-null  bool   \n",
      " 12  job_blue-collar                41188 non-null  bool   \n",
      " 13  job_entrepreneur               41188 non-null  bool   \n",
      " 14  job_housemaid                  41188 non-null  bool   \n",
      " 15  job_management                 41188 non-null  bool   \n",
      " 16  job_retired                    41188 non-null  bool   \n",
      " 17  job_self-employed              41188 non-null  bool   \n",
      " 18  job_services                   41188 non-null  bool   \n",
      " 19  job_student                    41188 non-null  bool   \n",
      " 20  job_technician                 41188 non-null  bool   \n",
      " 21  job_unemployed                 41188 non-null  bool   \n",
      " 22  job_unknown                    41188 non-null  bool   \n",
      " 23  marital_divorced               41188 non-null  bool   \n",
      " 24  marital_married                41188 non-null  bool   \n",
      " 25  marital_single                 41188 non-null  bool   \n",
      " 26  marital_unknown                41188 non-null  bool   \n",
      " 27  education_basic.4y             41188 non-null  bool   \n",
      " 28  education_basic.6y             41188 non-null  bool   \n",
      " 29  education_basic.9y             41188 non-null  bool   \n",
      " 30  education_high.school          41188 non-null  bool   \n",
      " 31  education_illiterate           41188 non-null  bool   \n",
      " 32  education_professional.course  41188 non-null  bool   \n",
      " 33  education_university.degree    41188 non-null  bool   \n",
      " 34  education_unknown              41188 non-null  bool   \n",
      " 35  default_no                     41188 non-null  bool   \n",
      " 36  default_unknown                41188 non-null  bool   \n",
      " 37  default_yes                    41188 non-null  bool   \n",
      " 38  housing_no                     41188 non-null  bool   \n",
      " 39  housing_unknown                41188 non-null  bool   \n",
      " 40  housing_yes                    41188 non-null  bool   \n",
      " 41  loan_no                        41188 non-null  bool   \n",
      " 42  loan_unknown                   41188 non-null  bool   \n",
      " 43  loan_yes                       41188 non-null  bool   \n",
      " 44  contact_cellular               41188 non-null  bool   \n",
      " 45  contact_telephone              41188 non-null  bool   \n",
      " 46  month_apr                      41188 non-null  bool   \n",
      " 47  month_aug                      41188 non-null  bool   \n",
      " 48  month_dec                      41188 non-null  bool   \n",
      " 49  month_jul                      41188 non-null  bool   \n",
      " 50  month_jun                      41188 non-null  bool   \n",
      " 51  month_mar                      41188 non-null  bool   \n",
      " 52  month_may                      41188 non-null  bool   \n",
      " 53  month_nov                      41188 non-null  bool   \n",
      " 54  month_oct                      41188 non-null  bool   \n",
      " 55  month_sep                      41188 non-null  bool   \n",
      " 56  day_of_week_fri                41188 non-null  bool   \n",
      " 57  day_of_week_mon                41188 non-null  bool   \n",
      " 58  day_of_week_thu                41188 non-null  bool   \n",
      " 59  day_of_week_tue                41188 non-null  bool   \n",
      " 60  day_of_week_wed                41188 non-null  bool   \n",
      " 61  poutcome_failure               41188 non-null  bool   \n",
      " 62  poutcome_nonexistent           41188 non-null  bool   \n",
      " 63  poutcome_success               41188 non-null  bool   \n",
      "dtypes: bool(53), float64(5), int64(6)\n",
      "memory usage: 5.5 MB\n"
     ]
    }
   ],
   "execution_count": 216
  },
  {
   "cell_type": "code",
   "metadata": {
    "ExecuteTime": {
     "end_time": "2025-09-27T05:56:42.633872Z",
     "start_time": "2025-09-27T05:56:42.632451Z"
    }
   },
   "source": [],
   "outputs": [],
   "execution_count": null
  },
  {
   "cell_type": "markdown",
   "metadata": {},
   "source": [
    "### Problem 5: Engineering Features\n",
    "\n",
    "Now that you understand your business objective, we will build a basic model to get started.  Before we can do this, we must work to encode the data.  Using just the bank information features, prepare the features and target column for modeling with appropriate encoding and transformations."
   ]
  },
  {
   "cell_type": "code",
   "metadata": {
    "ExecuteTime": {
     "end_time": "2025-09-27T05:56:42.650021Z",
     "start_time": "2025-09-27T05:56:42.648774Z"
    }
   },
   "source": [],
   "outputs": [],
   "execution_count": null
  },
  {
   "cell_type": "code",
   "metadata": {
    "ExecuteTime": {
     "end_time": "2025-09-27T05:56:42.664339Z",
     "start_time": "2025-09-27T05:56:42.663229Z"
    }
   },
   "source": [],
   "outputs": [],
   "execution_count": null
  },
  {
   "cell_type": "code",
   "metadata": {
    "ExecuteTime": {
     "end_time": "2025-09-27T05:56:42.679219Z",
     "start_time": "2025-09-27T05:56:42.677934Z"
    }
   },
   "source": [],
   "outputs": [],
   "execution_count": null
  },
  {
   "cell_type": "markdown",
   "metadata": {},
   "source": [
    "### Problem 6: Train/Test Split\n",
    "\n",
    "With your data prepared, split it into a train and test set."
   ]
  },
  {
   "cell_type": "code",
   "metadata": {
    "ExecuteTime": {
     "end_time": "2025-09-27T05:56:42.693227Z",
     "start_time": "2025-09-27T05:56:42.691964Z"
    }
   },
   "source": [],
   "outputs": [],
   "execution_count": null
  },
  {
   "cell_type": "code",
   "metadata": {
    "ExecuteTime": {
     "end_time": "2025-09-27T05:56:42.707310Z",
     "start_time": "2025-09-27T05:56:42.706123Z"
    }
   },
   "source": [],
   "outputs": [],
   "execution_count": null
  },
  {
   "cell_type": "code",
   "metadata": {
    "ExecuteTime": {
     "end_time": "2025-09-27T05:56:42.721342Z",
     "start_time": "2025-09-27T05:56:42.720202Z"
    }
   },
   "source": [],
   "outputs": [],
   "execution_count": null
  },
  {
   "cell_type": "markdown",
   "metadata": {},
   "source": [
    "### Problem 7: A Baseline Model\n",
    "\n",
    "Before we build our first model, we want to establish a baseline.  What is the baseline performance that our classifier should aim to beat?"
   ]
  },
  {
   "cell_type": "code",
   "metadata": {
    "ExecuteTime": {
     "end_time": "2025-09-27T05:56:42.735972Z",
     "start_time": "2025-09-27T05:56:42.734729Z"
    }
   },
   "source": [],
   "outputs": [],
   "execution_count": null
  },
  {
   "cell_type": "code",
   "metadata": {
    "ExecuteTime": {
     "end_time": "2025-09-27T05:56:42.751188Z",
     "start_time": "2025-09-27T05:56:42.749832Z"
    }
   },
   "source": [],
   "outputs": [],
   "execution_count": null
  },
  {
   "cell_type": "code",
   "metadata": {
    "ExecuteTime": {
     "end_time": "2025-09-27T05:56:42.765902Z",
     "start_time": "2025-09-27T05:56:42.764576Z"
    }
   },
   "source": [],
   "outputs": [],
   "execution_count": null
  },
  {
   "cell_type": "markdown",
   "metadata": {},
   "source": [
    "### Problem 8: A Simple Model\n",
    "\n",
    "Use Logistic Regression to build a basic model on your data.  "
   ]
  },
  {
   "cell_type": "code",
   "metadata": {
    "ExecuteTime": {
     "end_time": "2025-09-27T05:56:42.771379Z",
     "start_time": "2025-09-27T05:56:42.769944Z"
    }
   },
   "source": [],
   "outputs": [],
   "execution_count": null
  },
  {
   "cell_type": "markdown",
   "metadata": {},
   "source": [
    "### Problem 9: Score the Model\n",
    "\n",
    "What is the accuracy of your model?"
   ]
  },
  {
   "cell_type": "code",
   "metadata": {
    "ExecuteTime": {
     "end_time": "2025-09-27T05:56:42.791171Z",
     "start_time": "2025-09-27T05:56:42.789945Z"
    }
   },
   "source": [],
   "outputs": [],
   "execution_count": null
  },
  {
   "cell_type": "markdown",
   "metadata": {},
   "source": [
    "### Problem 10: Model Comparisons\n",
    "\n",
    "Now, we aim to compare the performance of the Logistic Regression model to our KNN algorithm, Decision Tree, and SVM models.  Using the default settings for each of the models, fit and score each.  Also, be sure to compare the fit time of each of the models.  Present your findings in a `DataFrame` similar to that below:\n",
    "\n",
    "| Model | Train Time | Train Accuracy | Test Accuracy |\n",
    "| ----- | ---------- | -------------  | -----------   |\n",
    "|     |    |.     |.     |"
   ]
  },
  {
   "cell_type": "code",
   "metadata": {
    "ExecuteTime": {
     "end_time": "2025-09-27T05:56:42.810017Z",
     "start_time": "2025-09-27T05:56:42.808817Z"
    }
   },
   "source": [],
   "outputs": [],
   "execution_count": null
  },
  {
   "cell_type": "code",
   "metadata": {
    "ExecuteTime": {
     "end_time": "2025-09-27T05:56:42.824338Z",
     "start_time": "2025-09-27T05:56:42.823113Z"
    }
   },
   "source": [],
   "outputs": [],
   "execution_count": null
  },
  {
   "cell_type": "code",
   "metadata": {
    "ExecuteTime": {
     "end_time": "2025-09-27T05:56:42.829771Z",
     "start_time": "2025-09-27T05:56:42.828364Z"
    }
   },
   "source": [],
   "outputs": [],
   "execution_count": null
  },
  {
   "cell_type": "markdown",
   "metadata": {},
   "source": [
    "### Problem 11: Improving the Model\n",
    "\n",
    "Now that we have some basic models on the board, we want to try to improve these.  Below, we list a few things to explore in this pursuit.\n",
    "\n",
    "- More feature engineering and exploration.  For example, should we keep the gender feature?  Why or why not?\n",
    "- Hyperparameter tuning and grid search.  All of our models have additional hyperparameters to tune and explore.  For example the number of neighbors in KNN or the maximum depth of a Decision Tree.  \n",
    "- Adjust your performance metric"
   ]
  },
  {
   "cell_type": "code",
   "metadata": {
    "ExecuteTime": {
     "end_time": "2025-09-27T05:56:42.849710Z",
     "start_time": "2025-09-27T05:56:42.848410Z"
    }
   },
   "source": [],
   "outputs": [],
   "execution_count": null
  },
  {
   "cell_type": "code",
   "metadata": {
    "ExecuteTime": {
     "end_time": "2025-09-27T05:56:42.868841Z",
     "start_time": "2025-09-27T05:56:42.867491Z"
    }
   },
   "source": [],
   "outputs": [],
   "execution_count": null
  },
  {
   "cell_type": "code",
   "metadata": {
    "ExecuteTime": {
     "end_time": "2025-09-27T05:56:42.883551Z",
     "start_time": "2025-09-27T05:56:42.882313Z"
    }
   },
   "source": [],
   "outputs": [],
   "execution_count": null
  },
  {
   "cell_type": "code",
   "metadata": {
    "ExecuteTime": {
     "end_time": "2025-09-27T05:56:42.897807Z",
     "start_time": "2025-09-27T05:56:42.896616Z"
    }
   },
   "source": [],
   "outputs": [],
   "execution_count": null
  },
  {
   "cell_type": "code",
   "metadata": {
    "ExecuteTime": {
     "end_time": "2025-09-27T05:56:42.912270Z",
     "start_time": "2025-09-27T05:56:42.910989Z"
    }
   },
   "source": [],
   "outputs": [],
   "execution_count": null
  },
  {
   "cell_type": "code",
   "metadata": {
    "ExecuteTime": {
     "end_time": "2025-09-27T05:56:42.926967Z",
     "start_time": "2025-09-27T05:56:42.925639Z"
    }
   },
   "source": [],
   "outputs": [],
   "execution_count": null
  },
  {
   "cell_type": "code",
   "metadata": {
    "ExecuteTime": {
     "end_time": "2025-09-27T05:56:42.940698Z",
     "start_time": "2025-09-27T05:56:42.939511Z"
    }
   },
   "source": [],
   "outputs": [],
   "execution_count": null
  },
  {
   "cell_type": "code",
   "metadata": {
    "ExecuteTime": {
     "end_time": "2025-09-27T05:56:42.954793Z",
     "start_time": "2025-09-27T05:56:42.953604Z"
    }
   },
   "source": [],
   "outputs": [],
   "execution_count": null
  },
  {
   "cell_type": "code",
   "metadata": {
    "ExecuteTime": {
     "end_time": "2025-09-27T05:56:42.968732Z",
     "start_time": "2025-09-27T05:56:42.967446Z"
    }
   },
   "source": [],
   "outputs": [],
   "execution_count": null
  },
  {
   "cell_type": "code",
   "metadata": {
    "ExecuteTime": {
     "end_time": "2025-09-27T05:56:42.982341Z",
     "start_time": "2025-09-27T05:56:42.981030Z"
    }
   },
   "source": [],
   "outputs": [],
   "execution_count": null
  },
  {
   "cell_type": "code",
   "metadata": {
    "ExecuteTime": {
     "end_time": "2025-09-27T05:56:42.996212Z",
     "start_time": "2025-09-27T05:56:42.994970Z"
    }
   },
   "source": [],
   "outputs": [],
   "execution_count": null
  },
  {
   "metadata": {},
   "cell_type": "markdown",
   "source": "##### Questions"
  },
  {
   "metadata": {
    "ExecuteTime": {
     "end_time": "2025-09-27T05:56:43.010704Z",
     "start_time": "2025-09-27T05:56:43.009406Z"
    }
   },
   "cell_type": "code",
   "source": "",
   "outputs": [],
   "execution_count": null
  },
  {
   "metadata": {
    "ExecuteTime": {
     "end_time": "2025-09-27T05:56:43.024660Z",
     "start_time": "2025-09-27T05:56:43.023479Z"
    }
   },
   "cell_type": "code",
   "source": "",
   "outputs": [],
   "execution_count": null
  }
 ],
 "metadata": {
  "kernelspec": {
   "display_name": "Python 3",
   "language": "python",
   "name": "python3"
  },
  "language_info": {
   "codemirror_mode": {
    "name": "ipython",
    "version": 3
   },
   "file_extension": ".py",
   "mimetype": "text/x-python",
   "name": "python",
   "nbconvert_exporter": "python",
   "pygments_lexer": "ipython3",
   "version": "3.8.8"
  },
  "widgets": {
   "application/vnd.jupyter.widget-state+json": {
    "state": {},
    "version_major": 2,
    "version_minor": 0
   }
  }
 },
 "nbformat": 4,
 "nbformat_minor": 4
}
